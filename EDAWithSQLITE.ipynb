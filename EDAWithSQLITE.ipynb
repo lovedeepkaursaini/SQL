{
 "cells": [
  {
   "cell_type": "code",
   "execution_count": 18,
   "metadata": {
    "collapsed": true
   },
   "outputs": [],
   "source": [
    "import pandas as pd\n",
    "import numpy as np\n",
    "import sqlite3\n",
    "import matplotlib.pyplot as plt\n",
    "%matplotlib inline"
   ]
  },
  {
   "cell_type": "markdown",
   "metadata": {},
   "source": [
    "Loading files as Pandas dataframes, they can be easily be dumped into the sqlite database. Since Pandas dataframes must fit on the RAM, this might not work for very large datasets."
   ]
  },
  {
   "cell_type": "code",
   "execution_count": 19,
   "metadata": {
    "collapsed": true
   },
   "outputs": [],
   "source": [
    "air_reserve     = pd.read_csv('input/air_reserve.csv',parse_dates=['visit_datetime','reserve_datetime'])\n",
    "hpg_reserve     = pd.read_csv('input/hpg_reserve.csv',parse_dates=['visit_datetime','reserve_datetime'])\n",
    "air_store_info = pd.read_csv('input/air_store_info.csv')\n",
    "hpg_store_info = pd.read_csv('input/hpg_store_info.csv')\n",
    "store_relation = pd.read_csv('input/store_id_relation.csv')\n",
    "date_info = pd.read_csv('input/date_info.csv',parse_dates=['calendar_date'])\n",
    "air_visit = pd.read_csv('input/air_visit_data.csv',parse_dates=['visit_date'])\n",
    "sample_submission = pd.read_csv('input/sample_submission.csv')"
   ]
  },
  {
   "cell_type": "markdown",
   "metadata": {},
   "source": [
    "Open a connection to sqlite file and dump the dataframes as individual tables."
   ]
  },
  {
   "cell_type": "code",
   "execution_count": 22,
   "metadata": {
    "collapsed": true
   },
   "outputs": [],
   "source": [
    "conn = sqlite3.connect('input/inventory.db')\n",
    "air_reserve.to_sql(name='air_reserve',if_exists='replace',con=conn)\n",
    "hpg_reserve.to_sql(name='hpg_reserve',if_exists='replace',con=conn)\n",
    "air_store_info.to_sql(  'air_store_info',if_exists='replace',con=conn)\n",
    "hpg_store_info.to_sql('hpg_store_info',if_exists='replace',con=conn)\n",
    "store_relation.to_sql('store_relation',if_exists='replace',con=conn)\n",
    "date_info.to_sql('date_info',if_exists='replace',con=conn)\n",
    "air_visit.to_sql('air_visit',if_exists='replace',con=conn)\n",
    "conn.commit()"
   ]
  },
  {
   "cell_type": "code",
   "execution_count": null,
   "metadata": {
    "collapsed": true
   },
   "outputs": [],
   "source": [
    "sql = '''\n",
    "create table air_res_store as \n",
    "select \n",
    "t1.*,\n",
    "t2.air_genre_name,\n",
    "t2.air_area_name \n",
    "from \n",
    "air_reserve t1 \n",
    "join \n",
    "air_store_info t2 \n",
    "on \n",
    "t1.air_store_id=t2.air_store_id\n",
    "'''"
   ]
  },
  {
   "cell_type": "code",
   "execution_count": null,
   "metadata": {
    "collapsed": true
   },
   "outputs": [],
   "source": [
    "sql='''\n",
    "create table air_res_store1 as\n",
    "select\n",
    "air_store_id,\n",
    "reserve_visitors,\n",
    "air_genre_name,\n",
    "air_area_name,\n",
    "date(visit_datetime) visit_date,\n",
    "time(visit_datetime) visit_hour ,\n",
    "date(reserve_datetime) reserve_date, \n",
    "time(reserve_datetime) reserve_hour\n",
    "from air_res_store t1;\n",
    "'''\n"
   ]
  },
  {
   "cell_type": "code",
   "execution_count": null,
   "metadata": {
    "collapsed": true
   },
   "outputs": [],
   "source": [
    "sql = '''\n",
    "create table air_res_store2 as\n",
    "select \n",
    "t1.*, \n",
    "t2.day_of_week, \n",
    "t2.holiday_flg \n",
    "from \n",
    "air_res_store1 t1 \n",
    "join \n",
    "date_info t2 \n",
    "on t1.visit_date = date(t2.calendar_date);'''"
   ]
  },
  {
   "cell_type": "code",
   "execution_count": null,
   "metadata": {
    "collapsed": true
   },
   "outputs": [],
   "source": [
    "sql='''\n",
    "create table air_res_store3 as\n",
    "select \n",
    "t1.*, \n",
    "t2.visitors as day_visitors \n",
    "from \n",
    "air_res_store2 t1 \n",
    "join \n",
    "air_visit t2 \n",
    "on \n",
    "t1.air_store_id = t2.air_store_id \n",
    "and t1.visit_date = date(t2.visit_date);\n",
    "'''"
   ]
  }
 ],
 "metadata": {
  "kernelspec": {
   "display_name": "Python 3",
   "language": "python",
   "name": "python3"
  },
  "language_info": {
   "codemirror_mode": {
    "name": "ipython",
    "version": 3
   },
   "file_extension": ".py",
   "mimetype": "text/x-python",
   "name": "python",
   "nbconvert_exporter": "python",
   "pygments_lexer": "ipython3",
   "version": "3.6.3"
  }
 },
 "nbformat": 4,
 "nbformat_minor": 2
}
